{
 "cells": [
  {
   "cell_type": "code",
   "execution_count": 77,
   "metadata": {},
   "outputs": [],
   "source": [
    "import websockets\n",
    "import asyncio\n",
    "import json\n",
    "import pandas as pd\n",
    "import sqlalchemy\n",
    "import json\n",
    "import random\n",
    "import datetime\n",
    "import time\n",
    "import websocket, json\n",
    "from sqlalchemy import create_engine"
   ]
  },
  {
   "cell_type": "code",
   "execution_count": 120,
   "metadata": {},
   "outputs": [],
   "source": [
    "stream = \\\n",
    "websockets.connect('wss://stream.binance.com:9443/stream?streams=ethusdt@miniTicker')"
   ]
  },
  {
   "cell_type": "code",
   "execution_count": 114,
   "metadata": {},
   "outputs": [],
   "source": [
    "def createframe(msg):\n",
    "    df = pd.DataFrame([msg])\n",
    "    df = df.loc[:,['E','c','o','h','l','v']]\n",
    "    df.columns = ['Time','Price','Open','High','Low','Volume']\n",
    "    df.Price = df.Price.astype(float)\n",
    "    df.High = df.High.astype(float)\n",
    "    df.Low = df.Low.astype(float)\n",
    "    df.Open = df.Open.astype(float)\n",
    "    df.Volume = df.Volume.astype(float)\n",
    "    df.Time = pd.to_datetime(df.Time, unit='ms')\n",
    "    return df"
   ]
  },
  {
   "cell_type": "code",
   "execution_count": 104,
   "metadata": {},
   "outputs": [],
   "source": [
    "SEVER = 'DESKTOP-GCHHQEC\\YANGLAKE'\n",
    "DATABASE = 'BTCUSDTstream'\n",
    "DRIVER  = 'ODBC Driver 17 for SQL Server'\n",
    "USERNAME = 'ngoctran'\n",
    "PASSWORD = '123'\n",
    "DATABASE_CONNECTION = f'mssql://@{SEVER}/{DATABASE}?driver={DRIVER}'"
   ]
  },
  {
   "cell_type": "code",
   "execution_count": 105,
   "metadata": {},
   "outputs": [
    {
     "data": {
      "text/plain": [
       "'mssql://@DESKTOP-GCHHQEC\\\\YANGLAKE/BTCUSDTstream?driver=ODBC Driver 17 for SQL Server'"
      ]
     },
     "execution_count": 105,
     "metadata": {},
     "output_type": "execute_result"
    }
   ],
   "source": [
    "DATABASE_CONNECTION"
   ]
  },
  {
   "cell_type": "code",
   "execution_count": 106,
   "metadata": {},
   "outputs": [],
   "source": [
    "engine = create_engine(DATABASE_CONNECTION)\n",
    "connection = engine.connect()"
   ]
  },
  {
   "cell_type": "code",
   "execution_count": null,
   "metadata": {},
   "outputs": [],
   "source": [
    "async with stream as receiver:\n",
    "    while True:\n",
    "        data = await receiver.recv()\n",
    "        data = json.loads(data) ['data']\n",
    "        df = createframe(data)\n",
    "        df.to_sql('ETHUSDT',engine, if_exists='append',index=False)\n",
    "        print(df)\n",
    "   "
   ]
  }
 ],
 "metadata": {
  "interpreter": {
   "hash": "ec3b6344b8b3f6c3db1463248c46b8920f4fc68f6187e2c1e71f56a52299e245"
  },
  "kernelspec": {
   "display_name": "Python 3.7.1 ('base')",
   "language": "python",
   "name": "python3"
  },
  "language_info": {
   "codemirror_mode": {
    "name": "ipython",
    "version": 3
   },
   "file_extension": ".py",
   "mimetype": "text/x-python",
   "name": "python",
   "nbconvert_exporter": "python",
   "pygments_lexer": "ipython3",
   "version": "3.7.1"
  },
  "orig_nbformat": 4
 },
 "nbformat": 4,
 "nbformat_minor": 2
}
